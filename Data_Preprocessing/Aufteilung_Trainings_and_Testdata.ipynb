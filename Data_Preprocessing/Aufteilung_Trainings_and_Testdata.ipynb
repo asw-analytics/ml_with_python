{
 "cells": [
  {
   "cell_type": "markdown",
   "metadata": {},
   "source": [
    "---\n",
    "# DATENSAMMLUNG IN TRAININGS- UND TESTDATEN AUFTEILEN"
   ]
  },
  {
   "cell_type": "markdown",
   "metadata": {},
   "source": [
    "## 1. IMPORTS"
   ]
  },
  {
   "cell_type": "code",
   "execution_count": 110,
   "metadata": {},
   "outputs": [],
   "source": [
    "import pandas as pd\n",
    "import numpy as np\n",
    "import matplotlib.pyplot as plt\n",
    "from sklearn import datasets"
   ]
  },
  {
   "cell_type": "markdown",
   "metadata": {},
   "source": [
    "## 2. LOAD DATA AS DATAFRAME"
   ]
  },
  {
   "cell_type": "code",
   "execution_count": 111,
   "metadata": {},
   "outputs": [
    {
     "data": {
      "text/plain": [
       "{'data':      alcohol  malic_acid   ash  alcalinity_of_ash  magnesium  total_phenols  \\\n",
       " 0      14.23        1.71  2.43               15.6      127.0           2.80   \n",
       " 1      13.20        1.78  2.14               11.2      100.0           2.65   \n",
       " 2      13.16        2.36  2.67               18.6      101.0           2.80   \n",
       " 3      14.37        1.95  2.50               16.8      113.0           3.85   \n",
       " 4      13.24        2.59  2.87               21.0      118.0           2.80   \n",
       " ..       ...         ...   ...                ...        ...            ...   \n",
       " 173    13.71        5.65  2.45               20.5       95.0           1.68   \n",
       " 174    13.40        3.91  2.48               23.0      102.0           1.80   \n",
       " 175    13.27        4.28  2.26               20.0      120.0           1.59   \n",
       " 176    13.17        2.59  2.37               20.0      120.0           1.65   \n",
       " 177    14.13        4.10  2.74               24.5       96.0           2.05   \n",
       " \n",
       "      flavanoids  nonflavanoid_phenols  proanthocyanins  color_intensity   hue  \\\n",
       " 0          3.06                  0.28             2.29             5.64  1.04   \n",
       " 1          2.76                  0.26             1.28             4.38  1.05   \n",
       " 2          3.24                  0.30             2.81             5.68  1.03   \n",
       " 3          3.49                  0.24             2.18             7.80  0.86   \n",
       " 4          2.69                  0.39             1.82             4.32  1.04   \n",
       " ..          ...                   ...              ...              ...   ...   \n",
       " 173        0.61                  0.52             1.06             7.70  0.64   \n",
       " 174        0.75                  0.43             1.41             7.30  0.70   \n",
       " 175        0.69                  0.43             1.35            10.20  0.59   \n",
       " 176        0.68                  0.53             1.46             9.30  0.60   \n",
       " 177        0.76                  0.56             1.35             9.20  0.61   \n",
       " \n",
       "      od280/od315_of_diluted_wines  proline  \n",
       " 0                            3.92   1065.0  \n",
       " 1                            3.40   1050.0  \n",
       " 2                            3.17   1185.0  \n",
       " 3                            3.45   1480.0  \n",
       " 4                            2.93    735.0  \n",
       " ..                            ...      ...  \n",
       " 173                          1.74    740.0  \n",
       " 174                          1.56    750.0  \n",
       " 175                          1.56    835.0  \n",
       " 176                          1.62    840.0  \n",
       " 177                          1.60    560.0  \n",
       " \n",
       " [178 rows x 13 columns],\n",
       " 'target': 0      0\n",
       " 1      0\n",
       " 2      0\n",
       " 3      0\n",
       " 4      0\n",
       "       ..\n",
       " 173    2\n",
       " 174    2\n",
       " 175    2\n",
       " 176    2\n",
       " 177    2\n",
       " Name: target, Length: 178, dtype: int32,\n",
       " 'frame':      alcohol  malic_acid   ash  alcalinity_of_ash  magnesium  total_phenols  \\\n",
       " 0      14.23        1.71  2.43               15.6      127.0           2.80   \n",
       " 1      13.20        1.78  2.14               11.2      100.0           2.65   \n",
       " 2      13.16        2.36  2.67               18.6      101.0           2.80   \n",
       " 3      14.37        1.95  2.50               16.8      113.0           3.85   \n",
       " 4      13.24        2.59  2.87               21.0      118.0           2.80   \n",
       " ..       ...         ...   ...                ...        ...            ...   \n",
       " 173    13.71        5.65  2.45               20.5       95.0           1.68   \n",
       " 174    13.40        3.91  2.48               23.0      102.0           1.80   \n",
       " 175    13.27        4.28  2.26               20.0      120.0           1.59   \n",
       " 176    13.17        2.59  2.37               20.0      120.0           1.65   \n",
       " 177    14.13        4.10  2.74               24.5       96.0           2.05   \n",
       " \n",
       "      flavanoids  nonflavanoid_phenols  proanthocyanins  color_intensity   hue  \\\n",
       " 0          3.06                  0.28             2.29             5.64  1.04   \n",
       " 1          2.76                  0.26             1.28             4.38  1.05   \n",
       " 2          3.24                  0.30             2.81             5.68  1.03   \n",
       " 3          3.49                  0.24             2.18             7.80  0.86   \n",
       " 4          2.69                  0.39             1.82             4.32  1.04   \n",
       " ..          ...                   ...              ...              ...   ...   \n",
       " 173        0.61                  0.52             1.06             7.70  0.64   \n",
       " 174        0.75                  0.43             1.41             7.30  0.70   \n",
       " 175        0.69                  0.43             1.35            10.20  0.59   \n",
       " 176        0.68                  0.53             1.46             9.30  0.60   \n",
       " 177        0.76                  0.56             1.35             9.20  0.61   \n",
       " \n",
       "      od280/od315_of_diluted_wines  proline  target  \n",
       " 0                            3.92   1065.0       0  \n",
       " 1                            3.40   1050.0       0  \n",
       " 2                            3.17   1185.0       0  \n",
       " 3                            3.45   1480.0       0  \n",
       " 4                            2.93    735.0       0  \n",
       " ..                            ...      ...     ...  \n",
       " 173                          1.74    740.0       2  \n",
       " 174                          1.56    750.0       2  \n",
       " 175                          1.56    835.0       2  \n",
       " 176                          1.62    840.0       2  \n",
       " 177                          1.60    560.0       2  \n",
       " \n",
       " [178 rows x 14 columns],\n",
       " 'target_names': array(['class_0', 'class_1', 'class_2'], dtype='<U7'),\n",
       " 'DESCR': '.. _wine_dataset:\\n\\nWine recognition dataset\\n------------------------\\n\\n**Data Set Characteristics:**\\n\\n    :Number of Instances: 178 (50 in each of three classes)\\n    :Number of Attributes: 13 numeric, predictive attributes and the class\\n    :Attribute Information:\\n \\t\\t- Alcohol\\n \\t\\t- Malic acid\\n \\t\\t- Ash\\n\\t\\t- Alcalinity of ash  \\n \\t\\t- Magnesium\\n\\t\\t- Total phenols\\n \\t\\t- Flavanoids\\n \\t\\t- Nonflavanoid phenols\\n \\t\\t- Proanthocyanins\\n\\t\\t- Color intensity\\n \\t\\t- Hue\\n \\t\\t- OD280/OD315 of diluted wines\\n \\t\\t- Proline\\n\\n    - class:\\n            - class_0\\n            - class_1\\n            - class_2\\n\\t\\t\\n    :Summary Statistics:\\n    \\n    ============================= ==== ===== ======= =====\\n                                   Min   Max   Mean     SD\\n    ============================= ==== ===== ======= =====\\n    Alcohol:                      11.0  14.8    13.0   0.8\\n    Malic Acid:                   0.74  5.80    2.34  1.12\\n    Ash:                          1.36  3.23    2.36  0.27\\n    Alcalinity of Ash:            10.6  30.0    19.5   3.3\\n    Magnesium:                    70.0 162.0    99.7  14.3\\n    Total Phenols:                0.98  3.88    2.29  0.63\\n    Flavanoids:                   0.34  5.08    2.03  1.00\\n    Nonflavanoid Phenols:         0.13  0.66    0.36  0.12\\n    Proanthocyanins:              0.41  3.58    1.59  0.57\\n    Colour Intensity:              1.3  13.0     5.1   2.3\\n    Hue:                          0.48  1.71    0.96  0.23\\n    OD280/OD315 of diluted wines: 1.27  4.00    2.61  0.71\\n    Proline:                       278  1680     746   315\\n    ============================= ==== ===== ======= =====\\n\\n    :Missing Attribute Values: None\\n    :Class Distribution: class_0 (59), class_1 (71), class_2 (48)\\n    :Creator: R.A. Fisher\\n    :Donor: Michael Marshall (MARSHALL%PLU@io.arc.nasa.gov)\\n    :Date: July, 1988\\n\\nThis is a copy of UCI ML Wine recognition datasets.\\nhttps://archive.ics.uci.edu/ml/machine-learning-databases/wine/wine.data\\n\\nThe data is the results of a chemical analysis of wines grown in the same\\nregion in Italy by three different cultivators. There are thirteen different\\nmeasurements taken for different constituents found in the three types of\\nwine.\\n\\nOriginal Owners: \\n\\nForina, M. et al, PARVUS - \\nAn Extendible Package for Data Exploration, Classification and Correlation. \\nInstitute of Pharmaceutical and Food Analysis and Technologies,\\nVia Brigata Salerno, 16147 Genoa, Italy.\\n\\nCitation:\\n\\nLichman, M. (2013). UCI Machine Learning Repository\\n[https://archive.ics.uci.edu/ml]. Irvine, CA: University of California,\\nSchool of Information and Computer Science. \\n\\n.. topic:: References\\n\\n  (1) S. Aeberhard, D. Coomans and O. de Vel, \\n  Comparison of Classifiers in High Dimensional Settings, \\n  Tech. Rep. no. 92-02, (1992), Dept. of Computer Science and Dept. of  \\n  Mathematics and Statistics, James Cook University of North Queensland. \\n  (Also submitted to Technometrics). \\n\\n  The data was used with many others for comparing various \\n  classifiers. The classes are separable, though only RDA \\n  has achieved 100% correct classification. \\n  (RDA : 100%, QDA 99.4%, LDA 98.9%, 1NN 96.1% (z-transformed data)) \\n  (All results using the leave-one-out technique) \\n\\n  (2) S. Aeberhard, D. Coomans and O. de Vel, \\n  \"THE CLASSIFICATION PERFORMANCE OF RDA\" \\n  Tech. Rep. no. 92-01, (1992), Dept. of Computer Science and Dept. of \\n  Mathematics and Statistics, James Cook University of North Queensland. \\n  (Also submitted to Journal of Chemometrics).\\n',\n",
       " 'feature_names': ['alcohol',\n",
       "  'malic_acid',\n",
       "  'ash',\n",
       "  'alcalinity_of_ash',\n",
       "  'magnesium',\n",
       "  'total_phenols',\n",
       "  'flavanoids',\n",
       "  'nonflavanoid_phenols',\n",
       "  'proanthocyanins',\n",
       "  'color_intensity',\n",
       "  'hue',\n",
       "  'od280/od315_of_diluted_wines',\n",
       "  'proline']}"
      ]
     },
     "execution_count": 111,
     "metadata": {},
     "output_type": "execute_result"
    }
   ],
   "source": [
    "df = datasets.load_wine(as_frame=True)\n",
    "df"
   ]
  },
  {
   "cell_type": "code",
   "execution_count": 112,
   "metadata": {},
   "outputs": [
    {
     "data": {
      "text/html": [
       "<div>\n",
       "<style scoped>\n",
       "    .dataframe tbody tr th:only-of-type {\n",
       "        vertical-align: middle;\n",
       "    }\n",
       "\n",
       "    .dataframe tbody tr th {\n",
       "        vertical-align: top;\n",
       "    }\n",
       "\n",
       "    .dataframe thead th {\n",
       "        text-align: right;\n",
       "    }\n",
       "</style>\n",
       "<table border=\"1\" class=\"dataframe\">\n",
       "  <thead>\n",
       "    <tr style=\"text-align: right;\">\n",
       "      <th></th>\n",
       "      <th>Alkohol</th>\n",
       "      <th>Apfelsäure</th>\n",
       "      <th>Asche</th>\n",
       "      <th>Aschealkalität</th>\n",
       "      <th>Magnesium</th>\n",
       "      <th>Phenole insgesamt</th>\n",
       "      <th>Falvanoide</th>\n",
       "      <th>nicht flavanoide Phenole</th>\n",
       "      <th>Tannin</th>\n",
       "      <th>Farbintensität</th>\n",
       "      <th>Farbe</th>\n",
       "      <th>OD280/OD315 des verdünnten Weins</th>\n",
       "      <th>Prolin</th>\n",
       "      <th>Klassenbezeichnung</th>\n",
       "    </tr>\n",
       "  </thead>\n",
       "  <tbody>\n",
       "    <tr>\n",
       "      <th>0</th>\n",
       "      <td>14.23</td>\n",
       "      <td>1.71</td>\n",
       "      <td>2.43</td>\n",
       "      <td>15.6</td>\n",
       "      <td>127.0</td>\n",
       "      <td>2.80</td>\n",
       "      <td>3.06</td>\n",
       "      <td>0.28</td>\n",
       "      <td>2.29</td>\n",
       "      <td>5.64</td>\n",
       "      <td>1.04</td>\n",
       "      <td>3.92</td>\n",
       "      <td>1065.0</td>\n",
       "      <td>0</td>\n",
       "    </tr>\n",
       "    <tr>\n",
       "      <th>1</th>\n",
       "      <td>13.20</td>\n",
       "      <td>1.78</td>\n",
       "      <td>2.14</td>\n",
       "      <td>11.2</td>\n",
       "      <td>100.0</td>\n",
       "      <td>2.65</td>\n",
       "      <td>2.76</td>\n",
       "      <td>0.26</td>\n",
       "      <td>1.28</td>\n",
       "      <td>4.38</td>\n",
       "      <td>1.05</td>\n",
       "      <td>3.40</td>\n",
       "      <td>1050.0</td>\n",
       "      <td>0</td>\n",
       "    </tr>\n",
       "    <tr>\n",
       "      <th>2</th>\n",
       "      <td>13.16</td>\n",
       "      <td>2.36</td>\n",
       "      <td>2.67</td>\n",
       "      <td>18.6</td>\n",
       "      <td>101.0</td>\n",
       "      <td>2.80</td>\n",
       "      <td>3.24</td>\n",
       "      <td>0.30</td>\n",
       "      <td>2.81</td>\n",
       "      <td>5.68</td>\n",
       "      <td>1.03</td>\n",
       "      <td>3.17</td>\n",
       "      <td>1185.0</td>\n",
       "      <td>0</td>\n",
       "    </tr>\n",
       "    <tr>\n",
       "      <th>3</th>\n",
       "      <td>14.37</td>\n",
       "      <td>1.95</td>\n",
       "      <td>2.50</td>\n",
       "      <td>16.8</td>\n",
       "      <td>113.0</td>\n",
       "      <td>3.85</td>\n",
       "      <td>3.49</td>\n",
       "      <td>0.24</td>\n",
       "      <td>2.18</td>\n",
       "      <td>7.80</td>\n",
       "      <td>0.86</td>\n",
       "      <td>3.45</td>\n",
       "      <td>1480.0</td>\n",
       "      <td>0</td>\n",
       "    </tr>\n",
       "    <tr>\n",
       "      <th>4</th>\n",
       "      <td>13.24</td>\n",
       "      <td>2.59</td>\n",
       "      <td>2.87</td>\n",
       "      <td>21.0</td>\n",
       "      <td>118.0</td>\n",
       "      <td>2.80</td>\n",
       "      <td>2.69</td>\n",
       "      <td>0.39</td>\n",
       "      <td>1.82</td>\n",
       "      <td>4.32</td>\n",
       "      <td>1.04</td>\n",
       "      <td>2.93</td>\n",
       "      <td>735.0</td>\n",
       "      <td>0</td>\n",
       "    </tr>\n",
       "    <tr>\n",
       "      <th>...</th>\n",
       "      <td>...</td>\n",
       "      <td>...</td>\n",
       "      <td>...</td>\n",
       "      <td>...</td>\n",
       "      <td>...</td>\n",
       "      <td>...</td>\n",
       "      <td>...</td>\n",
       "      <td>...</td>\n",
       "      <td>...</td>\n",
       "      <td>...</td>\n",
       "      <td>...</td>\n",
       "      <td>...</td>\n",
       "      <td>...</td>\n",
       "      <td>...</td>\n",
       "    </tr>\n",
       "    <tr>\n",
       "      <th>173</th>\n",
       "      <td>13.71</td>\n",
       "      <td>5.65</td>\n",
       "      <td>2.45</td>\n",
       "      <td>20.5</td>\n",
       "      <td>95.0</td>\n",
       "      <td>1.68</td>\n",
       "      <td>0.61</td>\n",
       "      <td>0.52</td>\n",
       "      <td>1.06</td>\n",
       "      <td>7.70</td>\n",
       "      <td>0.64</td>\n",
       "      <td>1.74</td>\n",
       "      <td>740.0</td>\n",
       "      <td>2</td>\n",
       "    </tr>\n",
       "    <tr>\n",
       "      <th>174</th>\n",
       "      <td>13.40</td>\n",
       "      <td>3.91</td>\n",
       "      <td>2.48</td>\n",
       "      <td>23.0</td>\n",
       "      <td>102.0</td>\n",
       "      <td>1.80</td>\n",
       "      <td>0.75</td>\n",
       "      <td>0.43</td>\n",
       "      <td>1.41</td>\n",
       "      <td>7.30</td>\n",
       "      <td>0.70</td>\n",
       "      <td>1.56</td>\n",
       "      <td>750.0</td>\n",
       "      <td>2</td>\n",
       "    </tr>\n",
       "    <tr>\n",
       "      <th>175</th>\n",
       "      <td>13.27</td>\n",
       "      <td>4.28</td>\n",
       "      <td>2.26</td>\n",
       "      <td>20.0</td>\n",
       "      <td>120.0</td>\n",
       "      <td>1.59</td>\n",
       "      <td>0.69</td>\n",
       "      <td>0.43</td>\n",
       "      <td>1.35</td>\n",
       "      <td>10.20</td>\n",
       "      <td>0.59</td>\n",
       "      <td>1.56</td>\n",
       "      <td>835.0</td>\n",
       "      <td>2</td>\n",
       "    </tr>\n",
       "    <tr>\n",
       "      <th>176</th>\n",
       "      <td>13.17</td>\n",
       "      <td>2.59</td>\n",
       "      <td>2.37</td>\n",
       "      <td>20.0</td>\n",
       "      <td>120.0</td>\n",
       "      <td>1.65</td>\n",
       "      <td>0.68</td>\n",
       "      <td>0.53</td>\n",
       "      <td>1.46</td>\n",
       "      <td>9.30</td>\n",
       "      <td>0.60</td>\n",
       "      <td>1.62</td>\n",
       "      <td>840.0</td>\n",
       "      <td>2</td>\n",
       "    </tr>\n",
       "    <tr>\n",
       "      <th>177</th>\n",
       "      <td>14.13</td>\n",
       "      <td>4.10</td>\n",
       "      <td>2.74</td>\n",
       "      <td>24.5</td>\n",
       "      <td>96.0</td>\n",
       "      <td>2.05</td>\n",
       "      <td>0.76</td>\n",
       "      <td>0.56</td>\n",
       "      <td>1.35</td>\n",
       "      <td>9.20</td>\n",
       "      <td>0.61</td>\n",
       "      <td>1.60</td>\n",
       "      <td>560.0</td>\n",
       "      <td>2</td>\n",
       "    </tr>\n",
       "  </tbody>\n",
       "</table>\n",
       "<p>178 rows × 14 columns</p>\n",
       "</div>"
      ],
      "text/plain": [
       "     Alkohol  Apfelsäure  Asche  Aschealkalität  Magnesium  Phenole insgesamt  \\\n",
       "0      14.23        1.71   2.43            15.6      127.0               2.80   \n",
       "1      13.20        1.78   2.14            11.2      100.0               2.65   \n",
       "2      13.16        2.36   2.67            18.6      101.0               2.80   \n",
       "3      14.37        1.95   2.50            16.8      113.0               3.85   \n",
       "4      13.24        2.59   2.87            21.0      118.0               2.80   \n",
       "..       ...         ...    ...             ...        ...                ...   \n",
       "173    13.71        5.65   2.45            20.5       95.0               1.68   \n",
       "174    13.40        3.91   2.48            23.0      102.0               1.80   \n",
       "175    13.27        4.28   2.26            20.0      120.0               1.59   \n",
       "176    13.17        2.59   2.37            20.0      120.0               1.65   \n",
       "177    14.13        4.10   2.74            24.5       96.0               2.05   \n",
       "\n",
       "     Falvanoide  nicht flavanoide Phenole  Tannin  Farbintensität  Farbe  \\\n",
       "0          3.06                      0.28    2.29            5.64   1.04   \n",
       "1          2.76                      0.26    1.28            4.38   1.05   \n",
       "2          3.24                      0.30    2.81            5.68   1.03   \n",
       "3          3.49                      0.24    2.18            7.80   0.86   \n",
       "4          2.69                      0.39    1.82            4.32   1.04   \n",
       "..          ...                       ...     ...             ...    ...   \n",
       "173        0.61                      0.52    1.06            7.70   0.64   \n",
       "174        0.75                      0.43    1.41            7.30   0.70   \n",
       "175        0.69                      0.43    1.35           10.20   0.59   \n",
       "176        0.68                      0.53    1.46            9.30   0.60   \n",
       "177        0.76                      0.56    1.35            9.20   0.61   \n",
       "\n",
       "     OD280/OD315 des verdünnten Weins  Prolin  Klassenbezeichnung  \n",
       "0                                3.92  1065.0                   0  \n",
       "1                                3.40  1050.0                   0  \n",
       "2                                3.17  1185.0                   0  \n",
       "3                                3.45  1480.0                   0  \n",
       "4                                2.93   735.0                   0  \n",
       "..                                ...     ...                 ...  \n",
       "173                              1.74   740.0                   2  \n",
       "174                              1.56   750.0                   2  \n",
       "175                              1.56   835.0                   2  \n",
       "176                              1.62   840.0                   2  \n",
       "177                              1.60   560.0                   2  \n",
       "\n",
       "[178 rows x 14 columns]"
      ]
     },
     "execution_count": 112,
     "metadata": {},
     "output_type": "execute_result"
    }
   ],
   "source": [
    "df_wine = df.data \n",
    "df_wine.columns = [\"Alkohol\", \"Apfelsäure\", \"Asche\", \"Aschealkalität\", \"Magnesium\", \"Phenole insgesamt\", \"Falvanoide\", \"nicht flavanoide Phenole\", \"Tannin\", \"Farbintensität\", \"Farbe\", \"OD280/OD315 des verdünnten Weins\", \"Prolin\"]\n",
    "df_wine[\"Klassenbezeichnung\"] = df.target\n",
    "df_wine"
   ]
  },
  {
   "cell_type": "markdown",
   "metadata": {},
   "source": [
    "---\n",
    "## 3. AUFTEILUNG DER DATEN MITTELS TRAIN TEST SPLIT VON SKLEARN"
   ]
  },
  {
   "cell_type": "code",
   "execution_count": 113,
   "metadata": {},
   "outputs": [],
   "source": [
    "from sklearn.model_selection import train_test_split"
   ]
  },
  {
   "cell_type": "code",
   "execution_count": 114,
   "metadata": {},
   "outputs": [
    {
     "name": "stdout",
     "output_type": "stream",
     "text": [
      "X_Train shape:  (124, 12) \ty_Train shape:  (124,) \n",
      "X_Test shape:  (54, 12) \ty_Test shape:  (54,)\n",
      "X_Train dim:  2 \t\ty_Train dim:  1 \n",
      "X_Test dim:  2 \t\t\ty_Test dim:  1\n"
     ]
    }
   ],
   "source": [
    "# Zuerst X und y extrahieren \n",
    "X, y = df_wine.iloc[:, :12].values, df_wine.iloc[:,13].values\n",
    "# Dann die Train_Test_Split Funktion anwenden\n",
    "X_Train, X_Test, y_Train, y_Test = train_test_split(X, y, random_state=1, test_size=.3, stratify=y) # Stratify, dass Klassenbezeichnungen exakt berücksichtigt werden\n",
    "print(\"X_Train shape: \", X_Train.shape, \"\\ty_Train shape: \", y_Train.shape, \"\\nX_Test shape: \", X_Test.shape, \"\\ty_Test shape: \", y_Test.shape)\n",
    "print(\"X_Train dim: \", X_Train.ndim, \"\\t\\ty_Train dim: \", y_Train.ndim, \"\\nX_Test dim: \", X_Test.ndim, \"\\t\\t\\ty_Test dim: \", y_Test.ndim)"
   ]
  },
  {
   "cell_type": "markdown",
   "metadata": {},
   "source": [
    "### Anzeige der `BINS` Klassenbezeichnungen"
   ]
  },
  {
   "cell_type": "code",
   "execution_count": 115,
   "metadata": {},
   "outputs": [
    {
     "name": "stdout",
     "output_type": "stream",
     "text": [
      "Bezeichner in y:  [59 71 48] \t --> das in %: \n",
      "Bezeichner in train:  [41 50 33]\n",
      "Bezeichner in test:  [18 21 15]\n"
     ]
    }
   ],
   "source": [
    "print(\"Bezeichner in y: \",     np.bincount(y), \"\\t --> das in %: \", )\n",
    "print(\"Bezeichner in train: \", np.bincount(y_Train))\n",
    "print(\"Bezeichner in test: \",  np.bincount(y_Test))"
   ]
  },
  {
   "cell_type": "code",
   "execution_count": 116,
   "metadata": {},
   "outputs": [
    {
     "name": "stdout",
     "output_type": "stream",
     "text": [
      "Ausgabe der BINS für Klassen gesamt in %:\n",
      "[0.33, 0.4, 0.27]\n",
      "Ausgabe der BINS für Klassen TRAIN in %:\n",
      "[0.33, 0.4, 0.27]\n",
      "Ausgabe der BINS für Klassen TEST in %:\n",
      "[0.33, 0.39, 0.28]\n"
     ]
    }
   ],
   "source": [
    "def describe_classDistribution(y, part: str) -> None:\n",
    "    sum = np.bincount(y).sum()\n",
    "    class_array = []\n",
    "    for cls_idx in np.unique(y):\n",
    "        bin = [np.bincount(y)][0][cls_idx]\n",
    "        class_array.append(round(bin / sum, ndigits=2))\n",
    "    print(f\"Ausgabe der BINS für {part} in %:\")\n",
    "    print(class_array)\n",
    "\n",
    "# Mittels dem SKLEARN Parameter \"stratify\" können wir die korrekt Aufteilung der KLassen sicherstellen --> diese Funktion liefert den Beweis\n",
    "describe_classDistribution(y, \"Klassen gesamt\")\n",
    "describe_classDistribution(y_Train, \"Klassen TRAIN\")\n",
    "describe_classDistribution(y_Test, \"Klassen TEST\")"
   ]
  },
  {
   "cell_type": "markdown",
   "metadata": {},
   "source": [
    "---\n",
    "# ANPASSUNG DER MERKMALE - STANDARDISIERUNG\n",
    "### Die meisten Verfahren profitieren davon, wenn wir die Merkmale auf ein einheitliches Niveau bringen.<br>\n",
    "### Grund ist, dass `Varianz, quadrierte Fehler` usw. von `verschieden-skalieren` oder `nicht standard-normalverteilten Daten` zu<br>\n",
    "### unterschiedlichen Gewichtungen führen können und somit die Aussage verzerren oder fälschen"
   ]
  },
  {
   "cell_type": "markdown",
   "metadata": {},
   "source": [
    "---\n",
    "#### Es gibt zwei Konzepte, um dem entgegen zu wirken: `Normierung` = Skala auf [0,1] festlegen und `Standardisierung` = Standard-Normalverteilung mit Mittelwert = 0 und Standard-Abweichung = +1/-1\n",
    "Die Normierung ist zwar ein praktisches Tool, wenn wir Werte in einem festgelegten intervall benötigen, häufig ist der Praxis aber die Standardisierung relevanter, weil bspw. Gradientenabstiegsverfahren wichtig sind für viele Optimierungsalgorithmen (Gradientenabstiegsverfahren).<br>\n",
    "Viele lineare Modelle, wie das SMV, oder die logistische Regression tun sich leichter die Gewichte zu ermitteln, wenn die Merkmale in einer Standardnormalverteilung vorliegen. Außerdem haben wir mittels Standardisierung nützliche Informationen zu Ausreißern, welche bei einer Normierung<br>\n",
    "auf eine Skala mit gleichen Intervallen einfach verloren gehen."
   ]
  },
  {
   "cell_type": "code",
   "execution_count": 135,
   "metadata": {},
   "outputs": [],
   "source": [
    "# Normierung auf Skale [0, 1]\n",
    "from sklearn.preprocessing import MinMaxScaler\n",
    "mms = MinMaxScaler()\n",
    "X_train_norm = mms.fit_transform(X_Train)\n",
    "X_test_norm  = mms.transform(X_Test)"
   ]
  },
  {
   "cell_type": "code",
   "execution_count": 136,
   "metadata": {},
   "outputs": [
    {
     "name": "stdout",
     "output_type": "stream",
     "text": [
      "[[ 1.75724998 -0.42418296  0.46754669 ...  1.17633597 -0.41889975\n",
      "   1.17628257]\n",
      " [-0.22691937  0.87476675 -1.43090484 ... -0.70436762 -1.11989258\n",
      "  -0.68867149]\n",
      " [ 0.26912297  2.4194637  -0.18960961 ...  1.21907924 -1.5580131\n",
      "  -1.586093  ]\n",
      " ...\n",
      " [ 0.14511239 -0.81913388 -0.99280064 ... -0.57613783  0.98308592\n",
      "   0.11059454]\n",
      " [-1.65304108 -0.38907621 -0.33564435 ... -0.76848251  0.89546181\n",
      "   0.48919423]\n",
      " [-0.10290878  1.91041585  0.39452932 ...  1.11222108 -1.82088541\n",
      "  -1.05324898]]\n",
      "[[ 7.03160014e-01  6.46572885e-01  1.27073772e+00  1.11788200e+00\n",
      "  -1.63639416e-01 -1.16936850e+00 -1.48727105e+00  1.01404052e+00\n",
      "  -1.88736352e+00 -2.98306614e-01 -2.87463593e-01 -7.72804758e-01]\n",
      " [ 1.94716619e-01 -4.68066392e-01  1.38026377e+00  1.70276540e+00\n",
      "   1.27492201e+00 -1.35573380e-01 -7.39150291e-01 -8.56873673e-01\n",
      "  -7.20389886e-02  8.77133130e-01 -1.51420105e+00 -1.79642616e+00]\n",
      " [ 1.49682775e+00  6.73115286e-02  3.94529319e-01  9.43360335e-02\n",
      "  -6.17921972e-01 -9.62609474e-01 -1.31008455e+00  5.46311975e-01\n",
      "  -6.47191316e-01  1.98845798e+00 -1.47038900e+00 -1.26358214e+00]\n",
      " [-1.38021780e+00 -1.35451180e+00  7.59616152e-01 -4.90547374e-01\n",
      "  -3.90780694e-01 -1.35573380e-01  1.76313264e-01 -1.16869271e+00\n",
      "   1.34786832e+00 -8.53969039e-01 -7.25584113e-01  6.57460765e-01]\n",
      " [-8.22170171e-01  6.46572885e-01 -5.91205129e-01 -4.90547374e-01\n",
      "  -8.45063250e-01  8.98221739e-01  9.44121407e-01  6.24266733e-01\n",
      "   2.17464979e+00 -1.17454351e+00  2.03457516e+00  3.06905489e-01]\n",
      " [ 9.51181182e-01 -8.80570692e-01  4.67546686e-01 -8.70721589e-01\n",
      "   6.69211938e-01  1.77297145e+00  1.61349261e+00 -1.40255698e+00\n",
      "   7.90689503e-01  7.48903340e-01 -2.87463593e-01  3.62994333e-01]\n",
      " [-1.08259240e+00 -3.10086022e-01 -2.45314797e+00 -6.36768226e-01\n",
      "  -1.63639416e-01 -8.78597588e-02  1.36938487e-01 -8.56873673e-01\n",
      "  -3.59615152e-01 -7.47110880e-01  1.37739438e+00  4.89194232e-01]\n",
      " [ 1.20310268e-01 -6.87483573e-01  6.50090102e-01 -4.90547374e-01\n",
      "  -8.79256561e-02  2.62040127e-01  3.92874535e-01 -6.23009398e-01\n",
      "  -2.87721111e-01 -3.41049878e-01  7.20213604e-01 -1.41805263e-01]\n",
      " [-7.22961704e-01 -1.10876456e+00 -1.64995694e+00 -2.26406480e-02\n",
      "  -1.60220084e+00 -2.78714242e-01 -3.04043134e-02 -7.78918915e-01\n",
      "  -1.00666152e+00 -1.57253845e-01  7.20213604e-01  1.21834920e+00]\n",
      " [-8.71774405e-01  2.00695941e+00  6.13581419e-01  3.86777737e-01\n",
      "  -7.69349491e-01 -1.43974568e+00 -1.53648952e+00  1.24790480e+00\n",
      "  -1.43802577e+00 -5.12022931e-01 -9.00832321e-01 -1.88055943e+00]\n",
      " [-7.35362762e-01  1.22583424e+00  2.94424865e-02  3.86777737e-01\n",
      "  -8.45063250e-01  2.34720232e-02 -1.09352328e+00  1.01404052e+00\n",
      "  -1.00666152e+00  1.11222108e+00 -1.73326131e+00 -1.44587089e+00]\n",
      " [ 1.58363516e+00 -6.34823449e-01  2.11985903e-01 -1.19240746e+00\n",
      "   2.10777337e+00  8.18699037e-01  1.01302727e+00 -7.00964156e-01\n",
      "   1.24002726e+00  2.53081484e-01  3.69717187e-01  1.83532649e+00]\n",
      " [-1.23140510e+00 -1.17897806e+00 -2.62626980e-01  3.86777737e-01\n",
      "   1.39215622e-01  1.74116237e+00  1.07407405e-01 -1.87028553e+00\n",
      "   8.97226035e-02 -7.85579817e-01  1.50656927e-01  7.27571820e-01]\n",
      " [ 1.67044257e+00 -4.50513018e-01  1.27073772e+00  9.43360335e-02\n",
      "   1.57777705e+00  8.18699037e-01  1.09177682e+00 -3.11190365e-01\n",
      "   6.64874931e-01  4.92443759e-01  5.01153343e-01  5.45056912e-02]\n",
      " [-9.05077247e-02  4.88592515e-01  1.02459853e-01  9.43360335e-02\n",
      "   3.66356900e-01 -1.56698201e+00 -7.98212456e-01 -1.01278319e+00\n",
      "  -1.38410524e+00  1.50497652e-01 -9.44644373e-01 -1.67022626e+00]\n",
      " [-5.36945828e-01 -2.90196916e-03 -7.37239862e-01  3.86777737e-01\n",
      "  -8.45063250e-01  4.21085530e-01  2.35375428e-01 -8.56873673e-01\n",
      "  -6.83138336e-01 -1.30277330e+00 -2.43651541e-01  2.36794434e-01]\n",
      " [ 1.37281717e+00 -7.05036947e-01 -3.35644346e-01 -1.07543078e+00\n",
      "   2.03205961e+00  1.13678984e+00  1.12130790e+00 -1.01278319e+00\n",
      "   8.98530564e-01  2.57355810e-01  5.88777448e-01  1.54086006e+00]\n",
      " [ 1.20310268e-01 -3.36416084e-01  3.09617188e+00  1.55654455e+00\n",
      "   1.88063209e+00  5.48321853e-01  6.38966888e-01  7.80176250e-01\n",
      "   5.75007380e-01 -6.27429743e-01  7.64025656e-01  8.25727297e-01]\n",
      " [ 1.37281717e+00 -2.48649211e-01  8.69142201e-01 -6.07524056e-01\n",
      "   1.65349081e+00  5.00608232e-01  4.71624088e-01 -4.67099882e-01\n",
      "  -6.29217806e-01  8.96229717e-04  4.57341291e-01  1.35857131e+00]\n",
      " [ 1.02558753e+00  2.86728709e-01 -2.62626980e-01  6.79219441e-01\n",
      "  -6.93635731e-01 -1.48745930e+00 -1.32977194e+00  3.12447700e-01\n",
      "  -1.02463503e+00  1.93716606e+00 -1.11989258e+00 -1.30564878e+00]\n",
      " [ 1.57123410e+00 -6.43600136e-01 -2.62626980e-01 -9.87698270e-01\n",
      "   1.42634953e+00  1.45488065e+00  9.53965101e-01 -8.56873673e-01\n",
      "   7.72715992e-01  5.69381633e-01 -6.84033328e-02  9.79971618e-01]\n",
      " [-1.18180087e+00 -8.10357194e-01  1.75477220e-01  6.79219441e-01\n",
      "  -9.96490769e-01 -1.32841390e+00 -7.68681374e-01  1.01404052e+00\n",
      "   5.37755830e-02 -6.18881090e-01  4.13529239e-01  5.45056912e-02]\n",
      " [ 1.20310268e-01  2.95484163e+00 -8.83274595e-01  5.32998589e-01\n",
      "  -9.96490769e-01  5.32417312e-01  6.09435806e-01 -5.45054640e-01\n",
      "   7.36768972e-01 -1.04631372e+00 -9.88456425e-01  6.85505187e-01]\n",
      " [ 1.54643199e+00 -5.90940013e-01  2.85003269e-01 -1.30938414e+00\n",
      "   9.72066976e-01  1.56621243e+00  1.33786917e+00 -2.33235607e-01\n",
      "   6.64874931e-01  7.27531708e-01  4.13529239e-01  3.34949911e-01]\n",
      " [ 4.79940962e-01 -1.31062837e+00 -4.35748800e-02 -7.82989078e-01\n",
      "   8.20639457e-01  3.89276450e-01 -7.19462903e-01  1.40381432e+00\n",
      "  -2.12101916e+00 -8.02677123e-01  2.82093083e-01 -9.55093501e-01]\n",
      " [-2.26919367e-01 -3.80087181e-02 -3.35644346e-01 -5.18848184e-02\n",
      "  -9.96490769e-01 -1.42384114e+00 -1.49711474e+00  8.58131008e-01\n",
      "  -1.72560193e+00  2.07394408e+00 -1.68944926e+00 -1.37575983e+00]\n",
      " [-1.27710900e-01  7.34339758e-01  7.59616152e-01  6.79219441e-01\n",
      "   5.17784419e-01 -1.01032310e+00 -1.40852149e+00  1.79358811e+00\n",
      "  -1.15044960e+00  2.27435526e-01 -3.75087697e-01 -7.02693703e-01]\n",
      " [-1.09499346e+00 -2.39872524e-01 -7.37239862e-01  3.86777737e-01\n",
      "  -1.07220453e+00  5.00608232e-01  6.09435806e-01  6.28667405e-04\n",
      "  -4.49482703e-01 -9.77924503e-01 -4.18899749e-01  9.37904985e-01]\n",
      " [-7.22961704e-01 -1.19653143e+00 -9.92800645e-01 -3.44326522e-01\n",
      "  -8.45063250e-01  1.96382594e+00  1.69224216e+00 -1.01278319e+00\n",
      "   6.28927910e-01 -2.34191719e-01  3.69717187e-01  2.22772223e-01]\n",
      " [ 1.94716619e-01 -1.24919155e+00 -2.45314797e+00 -1.36787249e+00\n",
      "  -1.60220084e+00  1.10498076e+00  1.13115160e+00 -8.56873673e-01\n",
      "   1.22205375e+00  1.07754388e-01  7.20213604e-01  7.97682875e-01]\n",
      " [ 1.72004680e+00 -6.61153511e-01  1.19772035e+00  1.55654455e+00\n",
      "  -8.79256561e-02  8.18699037e-01 -7.09619209e-01  1.24790480e+00\n",
      "   1.97694118e+00  3.39898567e+00 -1.68944926e+00 -9.13026868e-01]\n",
      " [-3.50929951e-01 -1.27552162e+00 -4.81679079e-01 -4.90547374e-01\n",
      "  -1.22118967e-02 -1.35573380e-01 -8.94664782e-02 -5.45054640e-01\n",
      "  -2.51774091e-01 -1.03776507e+00  1.20214618e+00  7.69638453e-01]\n",
      " [ 1.44722352e+00 -8.36687255e-01 -1.89609613e-01 -8.41477419e-01\n",
      "  -3.15066934e-01 -1.35573380e-01  3.92874535e-01 -8.56873673e-01\n",
      "  -5.40654784e-02 -2.04754020e-02  9.39273864e-01  2.92883278e-01]\n",
      " [ 8.89175890e-01 -1.03855106e+00 -1.64995694e+00 -4.90547374e-01\n",
      "  -3.90780694e-01 -2.94618783e-01 -2.37121890e-01 -3.89145124e-01\n",
      "  -1.56384034e+00 -5.33394563e-01  1.20214618e+00 -2.11916318e-01]\n",
      " [-1.41742097e+00 -2.74979273e-01  1.34375508e+00  5.32998589e-01\n",
      "   2.63776968e+00 -1.08984580e+00 -1.02461742e+00 -1.79233077e+00\n",
      "  -7.20389886e-02 -1.08905699e+00 -2.45912808e-02 -4.92360538e-01]\n",
      " [-2.88924659e-01 -5.47056577e-01 -6.27713812e-01 -2.56594011e-01\n",
      "  -9.96490769e-01 -1.35573380e-01  4.91311476e-01 -8.56873673e-01\n",
      "   3.05404726e-01 -4.90651300e-01  8.95461812e-01  7.41594031e-01]\n",
      " [ 4.55138845e-01  7.08009696e-01  2.94424865e-02  5.32998589e-01\n",
      "  -5.42208213e-01 -5.64995967e-01 -1.25102239e+00  6.24266733e-01\n",
      "  -6.29217806e-01  1.44134421e+00 -1.77707336e+00 -1.38978204e+00]\n",
      " [-8.22170171e-01 -8.98124066e-01 -1.43090484e+00 -1.07543078e+00\n",
      "  -1.07220453e+00  4.21085530e-01  4.61780394e-01 -6.23009398e-01\n",
      "   3.05404726e-01 -9.18083934e-01  1.20214618e+00  1.80705590e-01]\n",
      " [-1.08259240e+00 -1.14387131e+00  5.04055369e-01  1.26410285e+00\n",
      "  -1.60220084e+00 -4.53664185e-01 -4.43839467e-01  2.34492942e-01\n",
      "  -3.59615152e-01 -1.21728678e+00  1.55264259e+00  1.52661168e-01]\n",
      " [-2.85024326e-02  3.30612145e-01  1.19772035e+00  3.86777737e-01\n",
      "  -2.39353175e-01 -1.18527304e+00 -1.50695843e+00  1.24790480e+00\n",
      "  -1.52789332e+00 -1.91448456e-01 -8.13208217e-01 -4.22249483e-01]\n",
      " [ 1.12479600e+00 -9.50784189e-01 -3.72153029e-01 -1.07543078e+00\n",
      "  -8.79256561e-02  1.10498076e+00  1.10162051e+00 -1.16869271e+00\n",
      "   4.49192808e-01  9.28425046e-01  2.38281031e-01  1.31650468e+00]\n",
      " [-4.62539477e-01 -1.00344431e+00 -9.92800645e-01  9.43360335e-02\n",
      "   2.90643141e-01 -1.28070028e+00 -1.42820888e+00  1.24790480e+00\n",
      "  -3.59615152e-01  1.09084945e+00 -1.64563721e+00 -1.48793752e+00]\n",
      " [ 3.06326145e-01 -5.73386639e-01 -8.46765912e-01 -2.47915096e+00\n",
      "   6.35018627e-02  5.80130933e-01  7.17716441e-01 -8.56873673e-01\n",
      "  -5.75297275e-01 -2.85483635e-01  4.13529239e-01  1.10617152e+00]\n",
      " [ 9.88384357e-01 -6.17270075e-01  1.38968536e-01 -1.07543078e+00\n",
      "  -7.69349491e-01  5.00608232e-01  7.17716441e-01 -6.23009398e-01\n",
      "   3.77298767e-01  2.35984179e-01  8.51649760e-01  4.05060966e-01]\n",
      " [ 3.55930378e-01  1.35748455e+00 -2.99135663e-01 -6.36768226e-01\n",
      "   2.90643141e-01  5.64226393e-01  5.89748417e-01 -3.89145124e-01\n",
      "   1.07696114e-01 -2.94032288e-01 -5.94147957e-01  5.45283076e-01]\n",
      " [-5.98951120e-01 -8.01580507e-01 -6.27713812e-01 -1.98105670e-01\n",
      "   4.75775495e+00  3.41562829e-01  2.35375428e-01 -3.89145124e-01\n",
      "   3.01940477e+00 -1.04631372e+00  8.95461812e-01  2.64612692e-02]\n",
      " [ 1.78205210e+00 -4.94396454e-01  2.85003269e-01 -1.48484917e+00\n",
      "  -2.39353175e-01  3.41562829e-01  4.81467782e-01 -5.45054640e-01\n",
      "   6.82848441e-01  8.63827566e-02  2.82093083e-01  1.35857131e+00]\n",
      " [-1.77315134e-01 -1.08222216e-01  1.02459853e-01  1.26410285e+00\n",
      "  -8.79256561e-02 -1.80555011e+00 -9.26180480e-01 -7.78918915e-01\n",
      "  -1.38410524e+00  2.78727442e-01 -1.29514079e+00 -1.75435953e+00]\n",
      " [-7.72565937e-01 -1.26674493e+00 -1.54043089e+00 -1.42636083e+00\n",
      "   2.78919720e+00 -6.12709588e-01 -1.78059725e-01 -1.55280849e-01\n",
      "   2.08478224e+00 -7.04367617e-01  4.57341291e-01 -4.22249483e-01]\n",
      " [ 2.32769867e+00 -6.96260260e-01 -7.37239862e-01 -1.66031419e+00\n",
      "  -1.63639416e-01  8.18699037e-01  9.34277712e-01 -6.23009398e-01\n",
      "   6.82848441e-01  6.50111248e-02  5.44965395e-01  3.34949911e-01]\n",
      " [-9.83383930e-01 -7.22590322e-01 -2.26118296e-01  9.13172804e-01\n",
      "  -6.93635731e-01 -8.03564072e-01 -3.35558832e-01  4.68357217e-01\n",
      "  -7.20389886e-02 -1.11042862e+00  1.64026670e+00 -4.92360538e-01]\n",
      " [ 1.55883304e+00  1.41014467e+00  2.48494586e-01 -2.27349841e-01\n",
      "   8.96353216e-01  8.98221739e-01  6.09435806e-01 -5.45054640e-01\n",
      "  -6.29217806e-01  8.21084302e-02 -3.75087697e-01  1.00801604e+00]\n",
      " [ 8.39571656e-01 -5.47056577e-01  1.19772035e+00 -7.24500737e-01\n",
      "   9.72066976e-01  8.98221739e-01  8.65371853e-01 -5.45054640e-01\n",
      "  -2.51774091e-01  9.62619657e-01  1.42120644e+00  3.77016544e-01]\n",
      " [ 8.70074260e-03  8.92320128e-01 -8.00835633e-02 -3.44326522e-01\n",
      "   5.17784419e-01 -1.42384114e+00 -1.31008455e+00  2.34492942e-01\n",
      "  -1.18639662e+00  9.92057356e-02 -1.20751669e+00 -1.20749330e+00]]\n"
     ]
    }
   ],
   "source": [
    "# Standardisierung der Merkmale\n",
    "from sklearn.preprocessing import StandardScaler\n",
    "ssc = StandardScaler()\n",
    "X_Train_ssc = ssc.fit_transform(X_Train)\n",
    "X_Test_ssc  = ssc.transform(X_Test)\n",
    "print(X_Train_ssc)\n",
    "print(X_Test_ssc)"
   ]
  },
  {
   "cell_type": "markdown",
   "metadata": {},
   "source": [
    "#### Es gibt zudem noch weiter Scaler wie den RobustScaler, die besonders für kleine Datenmengen nützlich sein können, die viele Ausreißer enthalten"
   ]
  },
  {
   "cell_type": "code",
   "execution_count": 137,
   "metadata": {},
   "outputs": [],
   "source": [
    "from sklearn.preprocessing import RobustScaler\n",
    "rbs = RobustScaler()\n",
    "X_Train_rbs = rbs.fit_transform(X_Train)\n",
    "X_Test_rbs  = rbs.transform(X_Test)"
   ]
  },
  {
   "cell_type": "markdown",
   "metadata": {},
   "source": [
    "---\n",
    "# WICHTIG!!!\n",
    "## Wenn wir feststellen, dass ein Modell viel besser mit den Trainingsdaten zurecht kommt, als mit den Testdaten, dann ist eine Überanpassung auf die Trainingsdaten wahrscheinlich\n",
    "#### Das Modell hat eine hohe Varianz (Überanpassung) und ist nicht generalisierbar - es ist zu komplex.<br> \n",
    "<br>\n",
    "Es gibt folgende Lösungsmöglichkeiten:<br>\n",
    "[1] mehr Trainingsdaten sammeln -> oft nicht einfach möglich und fragwürdig, ob das überhaupt die Situation verbessern würde<br>\n",
    "[2] `Regularisierung` der Straffunktion zur Kontrolle der Komplexität -> L1 und L2 Regularisierung der Straffunktion<br>\n",
    "[3] Auswahl eines einfacheren Modells mit weniger Parametern<br>\n",
    "[4] Dimensionsreduktion der Daten"
   ]
  },
  {
   "cell_type": "markdown",
   "metadata": {},
   "source": [
    "### L2 Regularisierung ist ein Ansatz, der die Komplexität des Modells reduziert, indem er große individuelle Gewichte \"bestraft\" -> die Gewichte sind entsprechend weniger extrem \n",
    "### L1 Regularisierung kann als Verfahren zum Merkmalsauswahl betrachtet werden, weil wir dünn besetzte Merkmalsvektoren erhalten -> sprich die Gewichte mit wenig Information kann man vernachlässigen, ohne Informationen zu verlieren"
   ]
  },
  {
   "cell_type": "markdown",
   "metadata": {},
   "source": [
    "---\n",
    "## L2 Regularisierung \n",
    "### Hier anhand Summe der quadrierten Abweichungen als Straffunktion (ist symmetrisch)\n",
    "Durch das hinzufügen des Regularisierungsparameter Lambda werden kleine Gewichte begünstigt (oder große bestraft), wodurch unser Modell weniger von den Trainingsdaten<br>\n",
    "abhängig wird. "
   ]
  },
  {
   "cell_type": "markdown",
   "metadata": {},
   "source": [
    "---\n",
    "## L1 Regularisierung begünstigtt \"dünn\" besetzte Vektoren\n",
    "### Summe der absolut-Werte der Gewichtskoeffizienten\n",
    "Durch das hinzufügen des Regularisierungsparameter Lambda werden Schnittpunkte begünstigt, die auf den Koordinaten selbst liegen -> W = 0 für das entsprechende Gewicht!<br>\n",
    "Es liefert keine wertvollen Informationen und kann vernachlässigt werden.\n",
    "\n",
    "### Bei SKLEARN Alogrithmen, die eine L1 Regulierung berücksichtigen, haben wir den `Parameter penalty='l1'` = L1 Regularisierung "
   ]
  },
  {
   "cell_type": "code",
   "execution_count": 138,
   "metadata": {},
   "outputs": [
    {
     "data": {
      "text/plain": [
       "LogisticRegression(multi_class='ovr', penalty='l1', solver='liblinear')"
      ]
     },
     "execution_count": 138,
     "metadata": {},
     "output_type": "execute_result"
    }
   ],
   "source": [
    "from sklearn.linear_model import LogisticRegression\n",
    "LogisticRegression(penalty='l1', solver='liblinear', multi_class='ovr') # l1 = L1 - Regularisierung und wir MÜSSEN auch einen anderen optimierungsparameter als solver angeben, denn lbgfs unterstützt KEINE L1 Regularisierung\n"
   ]
  },
  {
   "cell_type": "markdown",
   "metadata": {},
   "source": [
    "## Wenden wir nun die L1 Regularisierung auf den Wein-Datensatz an"
   ]
  },
  {
   "cell_type": "code",
   "execution_count": 139,
   "metadata": {},
   "outputs": [],
   "source": [
    "lr = LogisticRegression(solver='liblinear', penalty='l1', multi_class='ovr', C=1.0) # C = 1.0 ist der Standardwert --> größerer und kleinerer Wert werden die Regularisierung verstärken oder abschwächen"
   ]
  },
  {
   "cell_type": "code",
   "execution_count": 140,
   "metadata": {},
   "outputs": [
    {
     "name": "stdout",
     "output_type": "stream",
     "text": [
      "Klassifikationsrate Training:  1.0\n",
      "Klassifikationsrate Test:  0.9629629629629629\n"
     ]
    }
   ],
   "source": [
    "lr.fit(X_Train_ssc, y_Train)\n",
    "print(\"Klassifikationsrate Training: \", lr.score(X_Train_ssc, y_Train))\n",
    "print(\"Klassifikationsrate Test: \", lr.score(X_Test_ssc, y_Test))"
   ]
  },
  {
   "cell_type": "code",
   "execution_count": 146,
   "metadata": {},
   "outputs": [
    {
     "name": "stdout",
     "output_type": "stream",
     "text": [
      "[-1.49972196 -1.23774209 -2.22667739]\n",
      "[0 1 2]\n"
     ]
    }
   ],
   "source": [
    "# Wie wir anhand des Intercept sehen können, haben wir DREI Achsenabschnitte -> für jede Klassenbezeichnung einen ==> DAS IST ALSO DAS BIAS w0\n",
    "print(lr.intercept_)\n",
    "print(np.unique(y_Train))"
   ]
  },
  {
   "cell_type": "markdown",
   "metadata": {},
   "source": [
    "#### wenn wir uns die Koeffizienten ausgeben lassen, so erhalten wir für jede Klasse (= also drei (3)) jeweils 13 Koeffizienten ausgegeben. Jede Zeile besteht aus 13 Gewichten, die mit den 13 Merkmalen der 13-dimensionalen Wein-Daten multipliziert werden, um die Netzeingabe zu berechnen"
   ]
  },
  {
   "cell_type": "code",
   "execution_count": 147,
   "metadata": {},
   "outputs": [
    {
     "data": {
      "text/plain": [
       "array([[ 2.4144663 ,  0.        ,  0.54059337, -2.18240748,  0.44908637,\n",
       "         0.        ,  1.54310213,  0.        ,  0.        ,  0.        ,\n",
       "         0.        ,  1.05029661],\n",
       "       [-2.42925592, -0.32009015, -1.12370835,  1.29585806, -0.63958773,\n",
       "         0.        ,  0.36994853,  0.15369289,  0.        , -1.8117042 ,\n",
       "         0.90265422,  0.        ],\n",
       "       [ 0.        ,  0.23198379,  0.50730174,  0.        ,  0.16142181,\n",
       "         0.        , -2.4898737 , -0.11918941,  0.        ,  1.65045998,\n",
       "        -0.88825925, -0.37556029]])"
      ]
     },
     "execution_count": 147,
     "metadata": {},
     "output_type": "execute_result"
    }
   ],
   "source": [
    "lr.coef_   # das sind also die Gewichtungsparameter der Schätzer"
   ]
  },
  {
   "cell_type": "markdown",
   "metadata": {},
   "source": [
    "### INTERCEPT_ = BIAS (w0) der Funktion\n",
    "### COEF_      = GEWICHTUNGSPARAMETER (wj) der Merkmale (Schätzer)"
   ]
  },
  {
   "cell_type": "markdown",
   "metadata": {},
   "source": [
    "---\n",
    "# Wir haben nun ein Modell trainiert, dass gegenüber irrelevanten Merkmalen in den Daten `robust` ist!\n",
    "Genau geonmmen haben wir aber keine Gewichtsvektoren, die dünn besetzt sind, da sie alle von NULL verschieden sind.<br>\n",
    "Wir können das aber erzwingen, indem wir die Regularisierungsstärke erhöhen = Wert von C=1.0) verringern"
   ]
  },
  {
   "cell_type": "code",
   "execution_count": 174,
   "metadata": {},
   "outputs": [
    {
     "data": {
      "image/png": "[encoded data removed]",
      "text/plain": [
       "<Figure size 1200x840 with 1 Axes>"
      ]
     },
     "metadata": {
      "needs_background": "light"
     },
     "output_type": "display_data"
    }
   ],
   "source": [
    "fig = plt.figure(figsize=(10,7), dpi=120)\n",
    "ax = plt.subplot(111)\n",
    "color = [\"blue\", \"green\", \"red\", \"cyan\", \"magenta\", \"yellow\", \"black\", \"pink\", \"lightgreen\", \"lightblue\", \"gray\", \"indigo\", \"orange\"]\n",
    "weights, params = [], []\n",
    "\n",
    "for c in np.arange(-4., 6.):\n",
    "    lr = LogisticRegression(penalty='l1', solver=\"liblinear\", C=10.0**c, multi_class=\"ovr\", random_state=0)\n",
    "    lr.fit(X_Train_ssc, y_Train)\n",
    "    weights.append(lr.coef_[1])\n",
    "    params.append(10**c)\n",
    "\n",
    "weights = np.array(weights)\n",
    "\n",
    "for column, color in zip(range(weights.shape[1]), color):\n",
    "    plt.plot(params, weights[:, column], label=df_wine.columns[column+1], color=color)\n",
    "plt.axhline(0, color=\"black\", ls=\"--\", lw=3)\n",
    "plt.xlim([10**(-5), 10**5])\n",
    "plt.ylabel(\"Gewichtskoeffizient C\")\n",
    "plt.xlabel(\"C\")\n",
    "plt.xscale(\"log\")\n",
    "plt.legend(loc=\"upper left\")\n",
    "ax.legend(loc=\"upper left\", bbox_to_anchor=(1.05, 1.01), ncol=1, fancybox=True, shadow=True)\n",
    "plt.show()"
   ]
  },
  {
   "cell_type": "markdown",
   "metadata": {},
   "source": [
    "---\n",
    "# Eine Weiter Möglichkeit zur Komplexitätsreduktion des Modells ist die Dimensionsreduktion!\n",
    "Das ist insbesondere nützlich bei nicht regularisierbaren Modellen.<br>\n",
    "<br>\n",
    "Es gibt zwei Hauptkategorien:<br>\n",
    "Die Auswahl und die Extrahierung von Merkmalen.<br>\n",
    "[1] Auswahl: Verwendung von Untermenge von Merkmalen<br>\n",
    "[2] Extrahierung: wir leiten von Menge von Informationen der Merkale einen neuen Merkmalsunterraum her<br>\n",
    "<br>\n",
    "Bei der Auswahl von Merkmalen handelt es sich um einen sogenannte \"Greedy-Suchalgorithmen\". Sie sollen es ermöglichen `automatisch` die relevantesten Merkmale auszuwählen, und<br>\n",
    "diese dann auf einen kleineren neuen Merkmalsraum abzubilden. Es werden die für die Aufgabenstellung relevantesten Merkmale selektiert:<br>\n",
    "- Generalisierungsfehler des Modells verringern<br>\n",
    "- irrelevante Merkmale und/oder Rauschen entfernen<br>\n",
    "- können besonders nützlich sein für Algorithmen, die keine Regularisierung unterstützen<br>\n",
    "<br>\n",
    "`Greedy-Algorithmen` liefern bei jeder Stufe einer kombinatorische Suche eine lokal optimale Auswahl, liefern aber nicht die `vollständig perfekte Gesamtlösung`. In der Praxis ist<br>\n",
    "eine vollständige Suche allerdings oft nur mit sehr hohem Rechenaufwand verbunden, und daher nicht machbar."
   ]
  },
  {
   "cell_type": "markdown",
   "metadata": {},
   "source": [
    "### SBS - SEQUENTIAL BACKWARDS SELECTION\n",
    "ist ein klassischer Algorithmus zur Auwahl von Merkmalen. Wir müssen allerdings die Entscheidungsfunktion festlegen, wonach die Auswahl der Merkmale erfolgen soll.<br>\n",
    "Bspw. die Leistung des Klassifikators VOR und NACH dem entfernen des Merkmals."
   ]
  },
  {
   "cell_type": "code",
   "execution_count": 176,
   "metadata": {},
   "outputs": [],
   "source": [
    "from sklearn.base import clone\n",
    "from itertools import combinations\n",
    "from sklearn.model_selection import train_test_split\n",
    "from sklearn.metrics import accuracy_score"
   ]
  },
  {
   "cell_type": "code",
   "execution_count": 177,
   "metadata": {},
   "outputs": [],
   "source": [
    "class SBS():\n",
    "    def __init__(self, estimator:object, k_features:int, scoring=accuracy_score, test_size:float =.25, random_state:int =1):\n",
    "        self._scoring      = scoring\n",
    "        self._random_state = random_state\n",
    "        self._estimator    = estimator\n",
    "        self._k_features   = k_features\n",
    "        self._test_size    = test_size\n",
    "    \n",
    "    def fit(self, X, y):\n",
    "        X_train, X_test, y_train, y_test = train_test_split(X, y, test_size=self._test_size, random_state=self._random_state)\n",
    "        _dim = X_train.ndim\n",
    "        self._indices_ = tuple(range(_dim))\n",
    "        self._subsets_ = [self._indices_]\n",
    "        score = self._calc_score(X_train, y_train, X_test, y_test, self._indices_)\n",
    "        self.scores = [score]\n",
    "\n",
    "        while self._k_features < _dim:\n",
    "            scores  = []\n",
    "            subsets = []\n",
    "\n",
    "            for p in combinations(self._indices_, r=_dim-1):\n",
    "                score = self._calc_score(X_train=X_train, y_train=y_train, X_test=X_test, y_test=y_test, p)\n",
    "                scores.append(score)\n",
    "                subsets.append(p)\n",
    "            \n",
    "            best = np.argmax(scores)\n",
    "            self._indices_ = subsets[best]\n",
    "            self._subsets_.append(self._indices_)\n",
    "            _dim -= 1\n",
    "\n",
    "        self.k_score = self.scores[-1]    \n",
    "        return self\n",
    "\n",
    "    def transform(self, X):\n",
    "        return X[:, self._indices_]\n",
    "\n",
    "    def _calc_score(self, X_train, y_train, X_test, y_test, indices):\n",
    "        self._estimator.fit(X_train[:, indices], y_train)\n",
    "        y_pred = self._estimator.predict(X_test[:, indices])\n",
    "        score = self.scoring (y_test, y_pred)\n",
    "        return score\n",
    "\n"
   ]
  },
  {
   "cell_type": "code",
   "execution_count": 179,
   "metadata": {},
   "outputs": [],
   "source": [
    "import matplotlib.pyplot as plt\n",
    "from sklearn.neighbors import KNeighborsClassifier"
   ]
  },
  {
   "cell_type": "code",
   "execution_count": 180,
   "metadata": {},
   "outputs": [],
   "source": [
    "knn = KNeighborsClassifier(n_neighbors=5)\n",
    "sbs = SBS(estimator=knn, k_features=1)\n",
    "sbs.fit(X_Train_ssc, y_Train)"
   ]
  },
  {
   "cell_type": "code",
   "execution_count": null,
   "metadata": {},
   "outputs": [],
   "source": []
  },
  {
   "cell_type": "code",
   "execution_count": 175,
   "metadata": {},
   "outputs": [],
   "source": [
    "from sklearn.feature_selection import SequentialFeatureSelector"
   ]
  },
  {
   "cell_type": "code",
   "execution_count": null,
   "metadata": {},
   "outputs": [],
   "source": []
  }
 ],
 "metadata": {
  "kernelspec": {
   "display_name": "Python 3.7.0 ('base')",
   "language": "python",
   "name": "python3"
  },
  "language_info": {
   "codemirror_mode": {
    "name": "ipython",
    "version": 3
   },
   "file_extension": ".py",
   "mimetype": "text/x-python",
   "name": "python",
   "nbconvert_exporter": "python",
   "pygments_lexer": "ipython3",
   "version": "3.7.0"
  },
  "orig_nbformat": 4,
  "vscode": {
   "interpreter": {
    "hash": "f3dd370889828a02d06f834a6e9d68da44e67f1d95ec84ecfc257cc90e27007a"
   }
  }
 },
 "nbformat": 4,
 "nbformat_minor": 2
}
