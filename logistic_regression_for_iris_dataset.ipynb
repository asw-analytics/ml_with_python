{
 "cells": [
  {
   "cell_type": "markdown",
   "metadata": {},
   "source": [
    "---\n",
    "## Logistic regression with Sigmoid-Function"
   ]
  },
  {
   "cell_type": "markdown",
   "metadata": {},
   "source": [
    "### IMPORTS "
   ]
  },
  {
   "cell_type": "code",
   "execution_count": 60,
   "metadata": {},
   "outputs": [],
   "source": [
    "import numpy as np\n",
    "import pandas as pd\n",
    "from sklearn import datasets\n",
    "import matplotlib.pyplot as plt"
   ]
  },
  {
   "cell_type": "code",
   "execution_count": 73,
   "metadata": {},
   "outputs": [],
   "source": [
    "class LogisticRegressionGD(object):\n",
    "    '''Klassifizierer mit logistischer Regression und Gradient-Descent-Gewichtungsfindung\n",
    "    \n",
    "        Parameter\n",
    "        --------\n",
    "        eta: float\n",
    "            Lernrate (zwischen 0.0 und 1.0)\n",
    "        n_iter: int\n",
    "            Anzahl der Durchläufe der Trainingsdatenmenge\n",
    "        random_state: int\n",
    "            Zufallszahlengenerator für zufällige Initialisierung der Gewichte\n",
    "        \n",
    "        Attributes\n",
    "        ----------\n",
    "        w_: 1-d array\n",
    "            Gewichte nach Anpassung\n",
    "        cost_: list\n",
    "            Summe der quadrierten Werte der Straffunktion pro Epoche\n",
    "    '''\n",
    "\n",
    "    def __init__(self, eta:float =.05, n_iter:int =100, random_state:int =1):\n",
    "        self._eta          = eta\n",
    "        self._random_state = random_state\n",
    "        self._n_iter       = n_iter\n",
    "    \n",
    "    def _net_input(self, X: np.array) -> np.array:\n",
    "        '''Netzeingabe Funktion'''\n",
    "        return np.dot(X, self.w_[1:]) + self.w_[0]\n",
    "    \n",
    "    def _activation_function(self, z: np.array) -> np.array:\n",
    "        '''logistische Aktivierungsfunktion berechnen'''\n",
    "        return 1.0 / (1.0 + np.exp(-np.clip(z, -250, +250)))\n",
    "    \n",
    "    def fit(self, X:np.array, y:np.array):\n",
    "        '''Fit-auf Trainingsdatenmengen\n",
    "        \n",
    "            Parameter\n",
    "            ---------\n",
    "            X: {np.array}, shape = [n_samples, n_features]\n",
    "                Trainingsvektoren, n_samples ist die Anzahl der Exemplare und n_features\n",
    "                ist die Anzahl der Merkmale (features)\n",
    "            y: {np.array}, shape = [n_samples]\n",
    "                Zielwerte\n",
    "            \n",
    "            Rückgabewert\n",
    "            ------------\n",
    "            self: object\n",
    "        '''\n",
    "        rgen = np.random.RandomState(self._random_state)\n",
    "        self.w_ = rgen.normal(loc=0.0, scale=0.01, size=X.shape[1]+1)\n",
    "        print(\"Gewichte initialisiert: \", self.w_)\n",
    "\n",
    "        self.cost_ = []\n",
    "        for i in range(self._n_iter):\n",
    "            _net_input = self._net_input(X=X)\n",
    "            output = self._activation_function(_net_input)\n",
    "            errors = (y - output)\n",
    "            self.w_[1:] += self._eta * X.T.dot(errors)\n",
    "            self.w_[0]  += self._eta * errors.sum()\n",
    "            print(\"Update Gewichte: \", self.w_)\n",
    "            # Berechnung des Werts der Straffunktion der logistischen Regression\n",
    "            # (nicht mehr die quadratischen Fehler)\n",
    "            cost = (-y.dot(np.log(output)) - ((1 - y).dot(np.log(1 - output))))\n",
    "            self.cost_.append(cost)\n",
    "        return self\n",
    "    \n",
    "    def predict(self, X:np.array) -> np.array:\n",
    "        '''Klassenbezeichnungen zurückgeben'''\n",
    "        return np.where(self._net_input(X) >= 0.0, 1, 1)\n",
    "        # Entspricht:  return np.where(self._activation_function(self._net_input(X) >= 0.5, 1, 0))"
   ]
  },
  {
   "cell_type": "markdown",
   "metadata": {},
   "source": [
    "---\n",
    "## Logistische Regressionen sind nur für binäre Klassifikationsaufgaben möglich -> DATEN LADEN\n",
    "Daher nur entsprechende Teile der IRIS-Datensammlung verwenden"
   ]
  },
  {
   "cell_type": "code",
   "execution_count": 62,
   "metadata": {},
   "outputs": [
    {
     "name": "stdout",
     "output_type": "stream",
     "text": [
      "Shape von X:  (150, 2)\n",
      "Feature-Names:  ['sepal length (cm)', 'sepal width (cm)', 'petal length (cm)', 'petal width (cm)']\n",
      "Shape von y:  (150,)\n",
      "Names zu den Klassen:  ['setosa' 'versicolor' 'virginica']\n",
      "Klassenbezeichnungen als Zahlen:  [0 1 2]\n",
      "Shape von X/y:  (150, 2)  /  (150,)\n"
     ]
    }
   ],
   "source": [
    "iris = datasets.load_iris()\n",
    "X = iris.data[:, [2,3]]\n",
    "print(\"Shape von X: \", X.shape)\n",
    "print(\"Feature-Names: \", iris.feature_names)\n",
    "y = iris.target\n",
    "print(\"Shape von y: \", y.shape)\n",
    "print(\"Names zu den Klassen: \", iris.target_names)\n",
    "print(\"Klassenbezeichnungen als Zahlen: \", np.unique(y))\n",
    "print(\"Shape von X/y: \", X.shape, \" / \", y.shape)"
   ]
  },
  {
   "cell_type": "code",
   "execution_count": 64,
   "metadata": {},
   "outputs": [
    {
     "name": "stdout",
     "output_type": "stream",
     "text": [
      "Shape von X/y:  (100, 2)  /  (100,)\n"
     ]
    }
   ],
   "source": [
    "X_train_01_subset = X[(y == 0) | (y == 1)]\n",
    "y_train_01_subset = y[(y == 0) | (y == 1)]\n",
    "print(\"Shape von X/y: \", X_train_01_subset.shape, \" / \", y_train_01_subset.shape)"
   ]
  },
  {
   "cell_type": "code",
   "execution_count": 65,
   "metadata": {},
   "outputs": [
    {
     "data": {
      "text/plain": [
       "array([[-1.01297765, -1.04211089],\n",
       "       [-1.01297765, -1.04211089],\n",
       "       [-1.08231219, -1.04211089],\n",
       "       [-0.94364311, -1.04211089],\n",
       "       [-1.01297765, -1.04211089],\n",
       "       [-0.80497402, -0.68644165],\n",
       "       [-1.01297765, -0.86427627],\n",
       "       [-0.94364311, -1.04211089],\n",
       "       [-1.01297765, -1.04211089],\n",
       "       [-0.94364311, -1.21994552],\n",
       "       [-0.94364311, -1.04211089],\n",
       "       [-0.87430856, -1.04211089],\n",
       "       [-1.01297765, -1.21994552],\n",
       "       [-1.22098127, -1.21994552],\n",
       "       [-1.15164673, -1.04211089],\n",
       "       [-0.94364311, -0.68644165],\n",
       "       [-1.08231219, -0.68644165],\n",
       "       [-1.01297765, -0.86427627],\n",
       "       [-0.80497402, -0.86427627],\n",
       "       [-0.94364311, -0.86427627],\n",
       "       [-0.80497402, -1.04211089],\n",
       "       [-0.94364311, -0.68644165],\n",
       "       [-1.29031581, -1.04211089],\n",
       "       [-0.80497402, -0.50860702],\n",
       "       [-0.66630494, -1.04211089],\n",
       "       [-0.87430856, -1.04211089],\n",
       "       [-0.87430856, -0.68644165],\n",
       "       [-0.94364311, -1.04211089],\n",
       "       [-1.01297765, -1.04211089],\n",
       "       [-0.87430856, -1.04211089],\n",
       "       [-0.87430856, -1.04211089],\n",
       "       [-0.94364311, -0.68644165],\n",
       "       [-0.94364311, -1.21994552],\n",
       "       [-1.01297765, -1.04211089],\n",
       "       [-0.94364311, -1.04211089],\n",
       "       [-1.15164673, -1.04211089],\n",
       "       [-1.08231219, -1.04211089],\n",
       "       [-1.01297765, -1.21994552],\n",
       "       [-1.08231219, -1.04211089],\n",
       "       [-0.94364311, -1.04211089],\n",
       "       [-1.08231219, -0.86427627],\n",
       "       [-1.08231219, -0.86427627],\n",
       "       [-1.08231219, -1.04211089],\n",
       "       [-0.87430856, -0.3307724 ],\n",
       "       [-0.66630494, -0.68644165],\n",
       "       [-1.01297765, -0.86427627],\n",
       "       [-0.87430856, -1.04211089],\n",
       "       [-1.01297765, -1.04211089],\n",
       "       [-0.94364311, -1.04211089],\n",
       "       [-1.01297765, -1.04211089],\n",
       "       [ 1.27506221,  1.09190459],\n",
       "       [ 1.13639313,  1.26973921],\n",
       "       [ 1.4137313 ,  1.26973921],\n",
       "       [ 0.78972042,  0.91406997],\n",
       "       [ 1.20572767,  1.26973921],\n",
       "       [ 1.13639313,  0.91406997],\n",
       "       [ 1.27506221,  1.44757384],\n",
       "       [ 0.30437864,  0.38056609],\n",
       "       [ 1.20572767,  0.91406997],\n",
       "       [ 0.72038588,  1.09190459],\n",
       "       [ 0.44304772,  0.38056609],\n",
       "       [ 0.92838951,  1.26973921],\n",
       "       [ 0.78972042,  0.38056609],\n",
       "       [ 1.27506221,  1.09190459],\n",
       "       [ 0.51238226,  0.91406997],\n",
       "       [ 1.06705859,  1.09190459],\n",
       "       [ 1.13639313,  1.26973921],\n",
       "       [ 0.85905497,  0.38056609],\n",
       "       [ 1.13639313,  1.26973921],\n",
       "       [ 0.72038588,  0.55840072],\n",
       "       [ 1.34439675,  1.80324308],\n",
       "       [ 0.78972042,  0.91406997],\n",
       "       [ 1.4137313 ,  1.26973921],\n",
       "       [ 1.27506221,  0.73623534],\n",
       "       [ 0.99772405,  0.91406997],\n",
       "       [ 1.06705859,  1.09190459],\n",
       "       [ 1.34439675,  1.09190459],\n",
       "       [ 1.48306584,  1.62540846],\n",
       "       [ 1.13639313,  1.26973921],\n",
       "       [ 0.44304772,  0.38056609],\n",
       "       [ 0.65105134,  0.55840072],\n",
       "       [ 0.5817168 ,  0.38056609],\n",
       "       [ 0.72038588,  0.73623534],\n",
       "       [ 1.55240038,  1.44757384],\n",
       "       [ 1.13639313,  1.26973921],\n",
       "       [ 1.13639313,  1.44757384],\n",
       "       [ 1.27506221,  1.26973921],\n",
       "       [ 1.06705859,  0.91406997],\n",
       "       [ 0.85905497,  0.91406997],\n",
       "       [ 0.78972042,  0.91406997],\n",
       "       [ 1.06705859,  0.73623534],\n",
       "       [ 1.20572767,  1.09190459],\n",
       "       [ 0.78972042,  0.73623534],\n",
       "       [ 0.30437864,  0.38056609],\n",
       "       [ 0.92838951,  0.91406997],\n",
       "       [ 0.92838951,  0.73623534],\n",
       "       [ 0.92838951,  0.91406997],\n",
       "       [ 0.99772405,  0.91406997],\n",
       "       [ 0.09637501,  0.55840072],\n",
       "       [ 0.85905497,  0.91406997]])"
      ]
     },
     "execution_count": 65,
     "metadata": {},
     "output_type": "execute_result"
    }
   ],
   "source": [
    "from sklearn.preprocessing import StandardScaler\n",
    "sc = StandardScaler()\n",
    "sc.fit(X_train_01_subset)\n",
    "X_train_01_std = sc.transform(X_train_01_subset)\n",
    "X_train_01_std"
   ]
  },
  {
   "cell_type": "code",
   "execution_count": 66,
   "metadata": {},
   "outputs": [
    {
     "name": "stdout",
     "output_type": "stream",
     "text": [
      "Shape X/y:  (100, 2)  /  (100,)\n",
      "Dimensions X/y:  2  /  1\n"
     ]
    }
   ],
   "source": [
    "print(\"Shape X/y: \", X_train_01_std.shape, \" / \", y_train_01_subset.shape)\n",
    "print(\"Dimensions X/y: \", X_train_01_std.ndim, \" / \", y_train_01_subset.ndim)"
   ]
  },
  {
   "cell_type": "markdown",
   "metadata": {},
   "source": [
    "---\n",
    "## USE MODEL ON DATA"
   ]
  },
  {
   "cell_type": "code",
   "execution_count": 72,
   "metadata": {},
   "outputs": [
    {
     "data": {
      "text/plain": [
       "<__main__.LogisticRegressionGD at 0x1f7a2658390>"
      ]
     },
     "execution_count": 72,
     "metadata": {},
     "output_type": "execute_result"
    }
   ],
   "source": [
    "lrgd = LogisticRegressionGD(eta=.05, n_iter=1000, random_state=1)\n",
    "lrgd.fit(X=X_train_01_std, y=y_train_01_subset)"
   ]
  },
  {
   "cell_type": "code",
   "execution_count": 68,
   "metadata": {},
   "outputs": [],
   "source": [
    "from matplotlib.colors import ListedColormap\n",
    "import matplotlib.pyplot as plt\n",
    "from matplotlib.pyplot import figure"
   ]
  },
  {
   "cell_type": "code",
   "execution_count": 69,
   "metadata": {},
   "outputs": [],
   "source": [
    "def plot_decision_regions(X :np.array, y :np.array, classifier: LogisticRegressionGD, test_idx=None, resolution=.01):\n",
    "    # Markierungen und Farben\n",
    "    markers = ('s', 'x', 'o', 'v', '^')\n",
    "    colors  = (\"red\", \"green\", \"blue\", \"lightgreen\", \"cyan\")\n",
    "    cmap    = ListedColormap(colors[:len(np.unique(y))])\n",
    "\n",
    "    # Plotten Entscheidungsgrenze\n",
    "    x1_min, x1_max = X[:,0].min() - 1, X[:,0].max() + 1\n",
    "    x2_min, x2_max = X[:,1].min() - 1, X[:,1].max() + 1\n",
    "    xx1, xx2 = np.meshgrid(np.arange(x1_min, x1_max, resolution), np.arange(x2_min, x2_max, resolution))\n",
    "    Z = classifier.predict(np.array([xx1.ravel(), xx2.ravel()]).T)\n",
    "    Z = Z.reshape(xx1.shape)\n",
    "    plt.contourf(xx1, xx2, Z, alpha=.3, cmap=cmap)\n",
    "    plt.xlim(xx1.min(), xx1.max())\n",
    "    plt.ylim(xx2.min(), xx2.max())\n",
    "\n",
    "    # Plotten aller Exemplare\n",
    "    for idx, cl in enumerate(np.unique(y)):\n",
    "        print(\"Index: \", idx)\n",
    "        plt.scatter(x=X[y == cl, 0], \n",
    "                    y=X[y == cl, 1],\n",
    "                    alpha=0.8,\n",
    "                    c=colors[idx],\n",
    "                    marker=markers[idx],\n",
    "                    label=cl,\n",
    "                    edgecolors='hotpink')\n",
    "    \n",
    "    # Exemplare der Testdatenmenge hervorheben -> wir kreisen diese Punkte explizit ein\n",
    "    if test_idx:\n",
    "        X_test, y_test = X[test_idx, :], y[test_idx]\n",
    "        plt.scatter(X_test[:,0], \n",
    "                    X_test[:,1],\n",
    "                    c='',\n",
    "                    edgecolors='hotpink',\n",
    "                    alpha=1.0,\n",
    "                    linewidths=1, \n",
    "                    marker='o',\n",
    "                    s=100,\n",
    "                    label='Testdaten')"
   ]
  },
  {
   "cell_type": "code",
   "execution_count": 70,
   "metadata": {},
   "outputs": [
    {
     "name": "stdout",
     "output_type": "stream",
     "text": [
      "Index:  0\n",
      "Index:  1\n"
     ]
    },
    {
     "data": {
      "image/png": "[encoded data removed]",
      "text/plain": [
       "<Figure size 800x560 with 1 Axes>"
      ]
     },
     "metadata": {
      "needs_background": "light"
     },
     "output_type": "display_data"
    }
   ],
   "source": [
    "figure(figsize=(10,7), dpi=80)\n",
    "plot_decision_regions(X=X_train_01_std, y=y_train_01_subset, classifier=lrgd)\n",
    "plt.xlabel(\"Länge Blütenblatt [standardisiert]\")\n",
    "plt.ylabel(\"Breite Blütenblatt [standardisiert]\")\n",
    "plt.legend(loc=\"best\")\n",
    "plt.show()"
   ]
  },
  {
   "cell_type": "code",
   "execution_count": null,
   "metadata": {},
   "outputs": [],
   "source": []
  }
 ],
 "metadata": {
  "kernelspec": {
   "display_name": "Python 3.7.0 ('base')",
   "language": "python",
   "name": "python3"
  },
  "language_info": {
   "codemirror_mode": {
    "name": "ipython",
    "version": 3
   },
   "file_extension": ".py",
   "mimetype": "text/x-python",
   "name": "python",
   "nbconvert_exporter": "python",
   "pygments_lexer": "ipython3",
   "version": "3.7.0"
  },
  "orig_nbformat": 4,
  "vscode": {
   "interpreter": {
    "hash": "f3dd370889828a02d06f834a6e9d68da44e67f1d95ec84ecfc257cc90e27007a"
   }
  }
 },
 "nbformat": 4,
 "nbformat_minor": 2
}
