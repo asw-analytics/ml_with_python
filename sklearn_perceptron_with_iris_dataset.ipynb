{
 "cells": [
  {
   "cell_type": "code",
   "execution_count": 1,
   "metadata": {},
   "outputs": [],
   "source": [
    "from sklearn import datasets\n",
    "import numpy as np"
   ]
  },
  {
   "cell_type": "markdown",
   "metadata": {},
   "source": [
    "---\n",
    "### LADEN DER DATEN DIREKT AUS DER SKLEARN BIBLIOTHEK"
   ]
  },
  {
   "cell_type": "code",
   "execution_count": 4,
   "metadata": {},
   "outputs": [
    {
     "name": "stdout",
     "output_type": "stream",
     "text": [
      "Feature-Names:  ['sepal length (cm)', 'sepal width (cm)', 'petal length (cm)', 'petal width (cm)']\n",
      "Klassenbezeichnungen als Zahlen:  [0 1 2]\n",
      "Names zu den Klassen:  ['setosa' 'versicolor' 'virginica']\n"
     ]
    }
   ],
   "source": [
    "iris = datasets.load_iris()\n",
    "X = iris.data[:, [2,3]]\n",
    "print(\"Feature-Names: \", iris.feature_names)\n",
    "y = iris.target\n",
    "print(\"Names zu den Klassen: \", iris.target_names)\n",
    "print(\"Klassenbezeichnungen als Zahlen: \", np.unique(y))"
   ]
  },
  {
   "cell_type": "markdown",
   "metadata": {},
   "source": [
    "---\n",
    "### AUFTEILEN DER DATEN IN TRAININGSDATEN UND TESTDATEN\n",
    "Die Trainingsdaten werden autom. durch die train_test_split-Methode durchmischt, damit wir nicht nicht nur ein Blütenpaar im Trainingsdatenset haben.<br>\n",
    "Mit random_state bestimmer wir immer die gleiche Trainings-Testdaten-Aufteilung in Verhältnis von 70% Trainingsdaten und 30% Testdaten (test_size=.3).<br><br>\n",
    "Die integrierte straitify-Methode von train_test_split stellt sicher, dass wir auch eine genaue Repräsentation der Trainings- und Testdaten bekommen, wie sie <br>\n",
    "auch im Datensatz vorliegt --> das testen wir entsprechend über die bincount-Funktion, ob das auch tatsächlich der Fall ist"
   ]
  },
  {
   "cell_type": "code",
   "execution_count": 12,
   "metadata": {},
   "outputs": [],
   "source": [
    "from sklearn.model_selection import train_test_split\n",
    "X_train, X_test, y_train, y_test = train_test_split(X, y, random_state=0, test_size=.3, stratify=y)"
   ]
  },
  {
   "cell_type": "code",
   "execution_count": 13,
   "metadata": {},
   "outputs": [
    {
     "name": "stdout",
     "output_type": "stream",
     "text": [
      "Bezeichner in y:  [50 50 50]\n",
      "Bezeichner in train:  [35 35 35]\n",
      "Bezeichner in test:  [15 15 15]\n"
     ]
    }
   ],
   "source": [
    "print(\"Bezeichner in y: \",     np.bincount(y))\n",
    "print(\"Bezeichner in train: \", np.bincount(y_train))\n",
    "print(\"Bezeichner in test: \",  np.bincount(y_test))"
   ]
  },
  {
   "cell_type": "markdown",
   "metadata": {},
   "source": [
    "---\n",
    "### AUFGRUND VON GRADIENTENABSTIEGSVERFAHREN - MERKMALSSTANDARDISIERUNG"
   ]
  },
  {
   "cell_type": "code",
   "execution_count": 14,
   "metadata": {},
   "outputs": [],
   "source": [
    "from sklearn.preprocessing import StandardScaler\n",
    "sc = StandardScaler()\n",
    "sc.fit(X_train)\n",
    "X_train_std = sc.transform(X_train)\n",
    "X_test_std  = sc.transform(X_test)"
   ]
  },
  {
   "cell_type": "markdown",
   "metadata": {},
   "source": [
    "---\n",
    "### WIR VERWENDEN DAS PERZEPTRON-MODEL "
   ]
  },
  {
   "cell_type": "code",
   "execution_count": 16,
   "metadata": {},
   "outputs": [
    {
     "name": "stdout",
     "output_type": "stream",
     "text": [
      "Fehlklassifizierte Exemplare: 2\n"
     ]
    }
   ],
   "source": [
    "from sklearn.linear_model import Perceptron\n",
    "pnn = Perceptron(eta0=0.1, n_iter_no_change=40, random_state=1).fit(X_train_std, y_train)\n",
    "y_pred = pnn.predict(X_test_std)\n",
    "print(\"Fehlklassifizierte Exemplare: %d\" % (y_test != y_pred).sum())"
   ]
  },
  {
   "cell_type": "markdown",
   "metadata": {},
   "source": [
    "#### ACCURACY BERECHNEN UND AUSGEBEN"
   ]
  },
  {
   "cell_type": "code",
   "execution_count": 24,
   "metadata": {},
   "outputs": [
    {
     "name": "stdout",
     "output_type": "stream",
     "text": [
      "Klassifikationsrate: 0.956 Prozent\n"
     ]
    }
   ],
   "source": [
    "from sklearn.metrics import accuracy_score\n",
    "print(\"Klassifikationsrate: %.3f Prozent\" % accuracy_score(y_test, y_pred))"
   ]
  },
  {
   "cell_type": "code",
   "execution_count": 27,
   "metadata": {},
   "outputs": [
    {
     "name": "stdout",
     "output_type": "stream",
     "text": [
      "Klassifikator: 0.956 Prozent\n"
     ]
    }
   ],
   "source": [
    "# Alternativ dazu direkt über Klassifikatorklasse\n",
    "print(\"Klassifikator: %.3f Prozent\" % pnn.score(X_test_std, y_test))"
   ]
  },
  {
   "cell_type": "markdown",
   "metadata": {},
   "source": [
    "---\n",
    "### AUSGABE DES ERGEBNISSES ALS CONTOURMAP\n",
    "Die Daten werden in unserem Beispiel für alle drei Kategorien ausgegeben und visualisiert"
   ]
  },
  {
   "cell_type": "code",
   "execution_count": 43,
   "metadata": {},
   "outputs": [],
   "source": [
    "from matplotlib.colors import ListedColormap\n",
    "import matplotlib.pyplot as plt\n",
    "from matplotlib.pyplot import figure"
   ]
  },
  {
   "cell_type": "code",
   "execution_count": 69,
   "metadata": {},
   "outputs": [],
   "source": [
    "def plot_decision_regions(X :np.array, y :np.array, classifier: Perceptron, test_idx=None, resolution=.005):\n",
    "    # Markierungen und Farben\n",
    "    markers = ('s', 'x', 'o', 'v', '^')\n",
    "    colors  = (\"red\", \"green\", \"blue\", \"lightgreen\", \"cyan\")\n",
    "    cmap    = ListedColormap(colors[:len(np.unique(y))])\n",
    "\n",
    "    # Plotten Entscheidungsgrenze\n",
    "    x1_min, x1_max = X[:,0].min() - 1, X[:,0].max() + 1\n",
    "    x2_min, x2_max = X[:,1].min() - 1, X[:,1].max() + 1\n",
    "    xx1, xx2 = np.meshgrid(np.arange(x1_min, x1_max, resolution), np.arange(x2_min, x2_max, resolution))\n",
    "    Z = classifier.predict(np.array([xx1.ravel(), xx2.ravel()]).T)\n",
    "    Z = Z.reshape(xx1.shape)\n",
    "    plt.contourf(xx1, xx2, Z, alpha=.3, cmap=cmap)\n",
    "    plt.xlim(xx1.min(), xx1.max())\n",
    "    plt.ylim(xx2.min(), xx2.max())\n",
    "\n",
    "    # Plotten aller Exemplare\n",
    "    for idx, cl in enumerate(np.unique(y)):\n",
    "        print(\"Index: \", idx)\n",
    "        plt.scatter(x=X[y == cl, 0], \n",
    "                    y=X[y == cl, 1],\n",
    "                    alpha=0.8,\n",
    "                    c=colors[idx],\n",
    "                    marker=markers[idx],\n",
    "                    label=cl,\n",
    "                    edgecolors='hotpink')\n",
    "    \n",
    "    # Exemplare der Testdatenmenge hervorheben -> wir kreisen diese Punkte explizit ein\n",
    "    if test_idx:\n",
    "        X_test, y_test = X[test_idx, :], y[test_idx]\n",
    "        plt.scatter(X_test[:,0], \n",
    "                    X_test[:,1],\n",
    "                    c='',\n",
    "                    edgecolors='hotpink',\n",
    "                    alpha=1.0,\n",
    "                    linewidths=1, \n",
    "                    marker='o',\n",
    "                    s=100,\n",
    "                    label='Testdaten')\n"
   ]
  },
  {
   "cell_type": "code",
   "execution_count": 70,
   "metadata": {},
   "outputs": [
    {
     "name": "stdout",
     "output_type": "stream",
     "text": [
      "Index:  0\n",
      "Index:  1\n",
      "Index:  2\n"
     ]
    },
    {
     "data": {
      "image/png": "[encoded data removed]",
      "text/plain": [
       "<Figure size 1280x800 with 1 Axes>"
      ]
     },
     "metadata": {
      "needs_background": "light"
     },
     "output_type": "display_data"
    }
   ],
   "source": [
    "X_combined_std = np.vstack((X_train_std, X_test_std))\n",
    "y_combined     = np.hstack((y_train, y_test))\n",
    "\n",
    "# Ergebnisse Plotten \n",
    "figure(figsize=(16, 10), dpi=80)\n",
    "plot_decision_regions(X=X_combined_std, y=y_combined, classifier=pnn, test_idx=range(105,150))\n",
    "plt.xlabel(\"Länge Blütenblatt [standardisiert]\")\n",
    "plt.ylabel(\"Breite Blütenblatt [standardisiert]\")\n",
    "plt.legend(loc=\"upper left\")\n",
    "plt.show()"
   ]
  },
  {
   "cell_type": "markdown",
   "metadata": {},
   "source": [
    "Wie an obigem Graphen abzulesen ist, sind die Daten nicht zu 100% richtig erkannt worden - das zeigt auch der Accuracy_score, den wir berechnet haben"
   ]
  }
 ],
 "metadata": {
  "kernelspec": {
   "display_name": "Python 3.7.0 ('base')",
   "language": "python",
   "name": "python3"
  },
  "language_info": {
   "codemirror_mode": {
    "name": "ipython",
    "version": 3
   },
   "file_extension": ".py",
   "mimetype": "text/x-python",
   "name": "python",
   "nbconvert_exporter": "python",
   "pygments_lexer": "ipython3",
   "version": "3.7.0"
  },
  "orig_nbformat": 4,
  "vscode": {
   "interpreter": {
    "hash": "f3dd370889828a02d06f834a6e9d68da44e67f1d95ec84ecfc257cc90e27007a"
   }
  }
 },
 "nbformat": 4,
 "nbformat_minor": 2
}
